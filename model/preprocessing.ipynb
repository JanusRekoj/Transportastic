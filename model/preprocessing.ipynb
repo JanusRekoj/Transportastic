{
 "cells": [
  {
   "cell_type": "code",
   "execution_count": 642,
   "id": "understood-wells",
   "metadata": {},
   "outputs": [],
   "source": [
    "import pandas as pd\n",
    "import numpy as np\n",
    "import os\n",
    "import csv\n",
    "import os.path\n",
    "from sklearn.model_selection import train_test_split\n",
    "from sklearn.preprocessing import MinMaxScaler\n",
    "from sklearn.linear_model import Lasso\n",
    "from sklearn.svm import SVR"
   ]
  },
  {
   "cell_type": "code",
   "execution_count": 624,
   "id": "quantitative-literacy",
   "metadata": {},
   "outputs": [],
   "source": [
    "# working_dir = os.path.abspath(os.path.dirname('data_4_ScienceHack2021/'))"
   ]
  },
  {
   "cell_type": "code",
   "execution_count": 625,
   "id": "southeast-freight",
   "metadata": {},
   "outputs": [],
   "source": [
    "working_dir = '/Users/nikanizharadze/Desktop/data_4_ScienceHack2021/'"
   ]
  },
  {
   "cell_type": "code",
   "execution_count": 626,
   "id": "engaged-nerve",
   "metadata": {},
   "outputs": [
    {
     "name": "stderr",
     "output_type": "stream",
     "text": [
      "/Users/nikanizharadze/anaconda3/envs/PricePrediction/lib/python3.7/site-packages/ipykernel_launcher.py:20: SettingWithCopyWarning: \n",
      "A value is trying to be set on a copy of a slice from a DataFrame.\n",
      "Try using .loc[row_indexer,col_indexer] = value instead\n",
      "\n",
      "See the caveats in the documentation: https://pandas.pydata.org/pandas-docs/stable/user_guide/indexing.html#returning-a-view-versus-a-copy\n"
     ]
    }
   ],
   "source": [
    "folder_name = 'trip_'\n",
    "gps_filename = 'gps_data.csv'\n",
    "passanger_count_filename = 'passenger_count_nums'\n",
    "all_trips = []\n",
    "# for i in range(1,13):\n",
    "for i in range(1,13):\n",
    "    df_gps = pd.read_csv(working_dir+folder_name+str(i) +'/' + gps_filename)\n",
    "    df_passanger_count = pd.read_csv(working_dir+folder_name+str(i) +'/' + passanger_count_filename)\n",
    "    # Remove Nan, inf values in passanger_count file\n",
    "    df_passanger_count = df_passanger_count[~df_passanger_count.isin([np.nan, np.inf, -np.inf]).any(1)]\n",
    "    # # Convert epoch_ts to int so GPS dataframe and Passanger_Count dataframe are mergable on epoch_ts\n",
    "    df_passanger_count['Epoch_Time'] = df_passanger_count['Epoch_Time'].astype(float).round().astype(int)\n",
    "    df_passanger_count = df_passanger_count.rename(columns={'Epoch_Time': 'epoch_ts'})\n",
    "    merged = df_gps.merge(df_passanger_count, on=\"epoch_ts\", how='left')\n",
    "    merged = merged.fillna(0)\n",
    "    door_closed_indeces = merged[merged.Number_of_Passengers==-10].index.values\n",
    "    door_open_indeces = merged[merged.Number_of_Passengers==-99].index.values\n",
    "    for j in range(len(door_closed_indeces)):\n",
    "        value_to_insert = sum(merged.iloc[door_closed_indeces[j]+1:door_open_indeces[j]-1]['Number_of_Passengers'])\n",
    "        merged.loc[door_closed_indeces[j]:door_open_indeces[j]]['Number_of_Passengers'] =  value_to_insert   \n",
    "    all_trips.append(merged)"
   ]
  },
  {
   "cell_type": "code",
   "execution_count": 627,
   "id": "round-eight",
   "metadata": {},
   "outputs": [
    {
     "data": {
      "text/plain": [
       "12"
      ]
     },
     "execution_count": 627,
     "metadata": {},
     "output_type": "execute_result"
    }
   ],
   "source": [
    "len(all_trips)"
   ]
  },
  {
   "cell_type": "code",
   "execution_count": 628,
   "id": "opposite-calibration",
   "metadata": {},
   "outputs": [],
   "source": [
    "# all_trips contain 12 dataframes each of which merges relevant gps data to number of passengers data based on epoch_ts"
   ]
  },
  {
   "cell_type": "code",
   "execution_count": 629,
   "id": "matched-bottom",
   "metadata": {},
   "outputs": [],
   "source": [
    "# Removes is_valid == False\n",
    "for i in range(len(all_trips)):\n",
    "    all_trips[i] = all_trips[i][all_trips[i].is_valid]"
   ]
  },
  {
   "cell_type": "code",
   "execution_count": 630,
   "id": "natural-shipping",
   "metadata": {},
   "outputs": [],
   "source": [
    "# drop columns is_valid, lat_dir, lon_dir\n",
    "for i in range(len(all_trips)):\n",
    "    del all_trips[i]['is_valid']\n",
    "    del all_trips[i]['lon_dir']\n",
    "    del all_trips[i]['lat_dir']\n",
    "    all_trips[i] = all_trips[i][all_trips[i].Number_of_Passengers != 0]"
   ]
  },
  {
   "cell_type": "code",
   "execution_count": 631,
   "id": "included-vienna",
   "metadata": {},
   "outputs": [],
   "source": [
    "# append dataframes \n",
    "df = pd.DataFrame()\n",
    "for i in range(len(all_trips)-1):\n",
    "    df = df.append(all_trips[i+1], ignore_index=True)"
   ]
  },
  {
   "cell_type": "code",
   "execution_count": 632,
   "id": "union-european",
   "metadata": {},
   "outputs": [],
   "source": [
    "df = df.sort_values(by='date_time',ascending=True)\n",
    "df = df.reset_index(drop=True)\n"
   ]
  },
  {
   "cell_type": "code",
   "execution_count": 633,
   "id": "serial-brooklyn",
   "metadata": {},
   "outputs": [
    {
     "data": {
      "text/html": [
       "<div>\n",
       "<style scoped>\n",
       "    .dataframe tbody tr th:only-of-type {\n",
       "        vertical-align: middle;\n",
       "    }\n",
       "\n",
       "    .dataframe tbody tr th {\n",
       "        vertical-align: top;\n",
       "    }\n",
       "\n",
       "    .dataframe thead th {\n",
       "        text-align: right;\n",
       "    }\n",
       "</style>\n",
       "<table border=\"1\" class=\"dataframe\">\n",
       "  <thead>\n",
       "    <tr style=\"text-align: right;\">\n",
       "      <th></th>\n",
       "      <th>date_time</th>\n",
       "      <th>latitude</th>\n",
       "      <th>longitude</th>\n",
       "      <th>speed_over_ground_knots</th>\n",
       "      <th>heading_true_course</th>\n",
       "      <th>epoch_ts</th>\n",
       "      <th>Number_of_Passengers</th>\n",
       "    </tr>\n",
       "  </thead>\n",
       "  <tbody>\n",
       "    <tr>\n",
       "      <th>0</th>\n",
       "      <td>2021-04-12 10:26:41</td>\n",
       "      <td>48.128255</td>\n",
       "      <td>11.604194</td>\n",
       "      <td>2.911</td>\n",
       "      <td>0.00</td>\n",
       "      <td>1.618223e+09</td>\n",
       "      <td>15.0</td>\n",
       "    </tr>\n",
       "    <tr>\n",
       "      <th>1</th>\n",
       "      <td>2021-04-12 10:26:42</td>\n",
       "      <td>48.128256</td>\n",
       "      <td>11.604222</td>\n",
       "      <td>3.345</td>\n",
       "      <td>0.00</td>\n",
       "      <td>1.618223e+09</td>\n",
       "      <td>15.0</td>\n",
       "    </tr>\n",
       "    <tr>\n",
       "      <th>2</th>\n",
       "      <td>2021-04-12 10:26:43</td>\n",
       "      <td>48.128276</td>\n",
       "      <td>11.604249</td>\n",
       "      <td>3.486</td>\n",
       "      <td>23.64</td>\n",
       "      <td>1.618223e+09</td>\n",
       "      <td>15.0</td>\n",
       "    </tr>\n",
       "    <tr>\n",
       "      <th>3</th>\n",
       "      <td>2021-04-12 10:26:44</td>\n",
       "      <td>48.128284</td>\n",
       "      <td>11.604271</td>\n",
       "      <td>3.324</td>\n",
       "      <td>47.95</td>\n",
       "      <td>1.618223e+09</td>\n",
       "      <td>15.0</td>\n",
       "    </tr>\n",
       "    <tr>\n",
       "      <th>4</th>\n",
       "      <td>2021-04-12 10:26:45</td>\n",
       "      <td>48.128289</td>\n",
       "      <td>11.604291</td>\n",
       "      <td>3.164</td>\n",
       "      <td>58.89</td>\n",
       "      <td>1.618223e+09</td>\n",
       "      <td>15.0</td>\n",
       "    </tr>\n",
       "  </tbody>\n",
       "</table>\n",
       "</div>"
      ],
      "text/plain": [
       "             date_time   latitude  longitude  speed_over_ground_knots  \\\n",
       "0  2021-04-12 10:26:41  48.128255  11.604194                    2.911   \n",
       "1  2021-04-12 10:26:42  48.128256  11.604222                    3.345   \n",
       "2  2021-04-12 10:26:43  48.128276  11.604249                    3.486   \n",
       "3  2021-04-12 10:26:44  48.128284  11.604271                    3.324   \n",
       "4  2021-04-12 10:26:45  48.128289  11.604291                    3.164   \n",
       "\n",
       "   heading_true_course      epoch_ts  Number_of_Passengers  \n",
       "0                 0.00  1.618223e+09                  15.0  \n",
       "1                 0.00  1.618223e+09                  15.0  \n",
       "2                23.64  1.618223e+09                  15.0  \n",
       "3                47.95  1.618223e+09                  15.0  \n",
       "4                58.89  1.618223e+09                  15.0  "
      ]
     },
     "execution_count": 633,
     "metadata": {},
     "output_type": "execute_result"
    }
   ],
   "source": [
    "df.head()"
   ]
  },
  {
   "cell_type": "code",
   "execution_count": 634,
   "id": "relevant-choir",
   "metadata": {},
   "outputs": [],
   "source": [
    "Y_cols = ['Number_of_Passengers'] \n",
    "X_cols = [col for col in list(df) if col not in Y_cols]"
   ]
  },
  {
   "cell_type": "code",
   "execution_count": 635,
   "id": "fixed-corporation",
   "metadata": {},
   "outputs": [
    {
     "data": {
      "text/plain": [
       "['date_time',\n",
       " 'latitude',\n",
       " 'longitude',\n",
       " 'speed_over_ground_knots',\n",
       " 'heading_true_course',\n",
       " 'epoch_ts']"
      ]
     },
     "execution_count": 635,
     "metadata": {},
     "output_type": "execute_result"
    }
   ],
   "source": [
    "X_cols"
   ]
  },
  {
   "cell_type": "code",
   "execution_count": 636,
   "id": "reflected-factory",
   "metadata": {},
   "outputs": [],
   "source": [
    "# convert date to float for machine learning models\n",
    "df['date_time'] = pd.to_datetime(df['date_time'])"
   ]
  },
  {
   "cell_type": "code",
   "execution_count": 637,
   "id": "unknown-ordinary",
   "metadata": {},
   "outputs": [],
   "source": [
    "df['date_time'] = (df['date_time'] - df['date_time'].min())  / np.timedelta64(1,'D')"
   ]
  },
  {
   "cell_type": "code",
   "execution_count": 638,
   "id": "colored-fellow",
   "metadata": {},
   "outputs": [
    {
     "data": {
      "text/html": [
       "<div>\n",
       "<style scoped>\n",
       "    .dataframe tbody tr th:only-of-type {\n",
       "        vertical-align: middle;\n",
       "    }\n",
       "\n",
       "    .dataframe tbody tr th {\n",
       "        vertical-align: top;\n",
       "    }\n",
       "\n",
       "    .dataframe thead th {\n",
       "        text-align: right;\n",
       "    }\n",
       "</style>\n",
       "<table border=\"1\" class=\"dataframe\">\n",
       "  <thead>\n",
       "    <tr style=\"text-align: right;\">\n",
       "      <th></th>\n",
       "      <th>date_time</th>\n",
       "      <th>latitude</th>\n",
       "      <th>longitude</th>\n",
       "      <th>speed_over_ground_knots</th>\n",
       "      <th>heading_true_course</th>\n",
       "      <th>epoch_ts</th>\n",
       "      <th>Number_of_Passengers</th>\n",
       "    </tr>\n",
       "  </thead>\n",
       "  <tbody>\n",
       "    <tr>\n",
       "      <th>0</th>\n",
       "      <td>0.000000</td>\n",
       "      <td>48.128255</td>\n",
       "      <td>11.604194</td>\n",
       "      <td>2.911</td>\n",
       "      <td>0.00</td>\n",
       "      <td>1.618223e+09</td>\n",
       "      <td>15.0</td>\n",
       "    </tr>\n",
       "    <tr>\n",
       "      <th>1</th>\n",
       "      <td>0.000012</td>\n",
       "      <td>48.128256</td>\n",
       "      <td>11.604222</td>\n",
       "      <td>3.345</td>\n",
       "      <td>0.00</td>\n",
       "      <td>1.618223e+09</td>\n",
       "      <td>15.0</td>\n",
       "    </tr>\n",
       "    <tr>\n",
       "      <th>2</th>\n",
       "      <td>0.000023</td>\n",
       "      <td>48.128276</td>\n",
       "      <td>11.604249</td>\n",
       "      <td>3.486</td>\n",
       "      <td>23.64</td>\n",
       "      <td>1.618223e+09</td>\n",
       "      <td>15.0</td>\n",
       "    </tr>\n",
       "    <tr>\n",
       "      <th>3</th>\n",
       "      <td>0.000035</td>\n",
       "      <td>48.128284</td>\n",
       "      <td>11.604271</td>\n",
       "      <td>3.324</td>\n",
       "      <td>47.95</td>\n",
       "      <td>1.618223e+09</td>\n",
       "      <td>15.0</td>\n",
       "    </tr>\n",
       "    <tr>\n",
       "      <th>4</th>\n",
       "      <td>0.000046</td>\n",
       "      <td>48.128289</td>\n",
       "      <td>11.604291</td>\n",
       "      <td>3.164</td>\n",
       "      <td>58.89</td>\n",
       "      <td>1.618223e+09</td>\n",
       "      <td>15.0</td>\n",
       "    </tr>\n",
       "  </tbody>\n",
       "</table>\n",
       "</div>"
      ],
      "text/plain": [
       "   date_time   latitude  longitude  speed_over_ground_knots  \\\n",
       "0   0.000000  48.128255  11.604194                    2.911   \n",
       "1   0.000012  48.128256  11.604222                    3.345   \n",
       "2   0.000023  48.128276  11.604249                    3.486   \n",
       "3   0.000035  48.128284  11.604271                    3.324   \n",
       "4   0.000046  48.128289  11.604291                    3.164   \n",
       "\n",
       "   heading_true_course      epoch_ts  Number_of_Passengers  \n",
       "0                 0.00  1.618223e+09                  15.0  \n",
       "1                 0.00  1.618223e+09                  15.0  \n",
       "2                23.64  1.618223e+09                  15.0  \n",
       "3                47.95  1.618223e+09                  15.0  \n",
       "4                58.89  1.618223e+09                  15.0  "
      ]
     },
     "execution_count": 638,
     "metadata": {},
     "output_type": "execute_result"
    }
   ],
   "source": [
    "df.head()"
   ]
  },
  {
   "cell_type": "code",
   "execution_count": 639,
   "id": "invisible-spank",
   "metadata": {},
   "outputs": [],
   "source": [
    "Y = df[Y_cols]\n",
    "X = df[X_cols]\n",
    "X_train, X_test, Y_train, Y_test = train_test_split(X, Y, test_size=0.1, shuffle=False, random_state=42)"
   ]
  },
  {
   "cell_type": "code",
   "execution_count": 640,
   "id": "federal-mining",
   "metadata": {},
   "outputs": [],
   "source": [
    "ss1 = MinMaxScaler(feature_range=(0, 1))\n",
    "X_train = ss1.fit_transform(X_train)\n",
    "X_test = ss1.transform(X_test)\n",
    "ss2 = MinMaxScaler(feature_range=(0, 1))\n",
    "Y_train = ss2.fit_transform(Y_train)\n",
    "Y_test = ss2.transform(Y_test)\n"
   ]
  },
  {
   "cell_type": "code",
   "execution_count": 616,
   "id": "mysterious-victor",
   "metadata": {},
   "outputs": [
    {
     "data": {
      "text/plain": [
       "Lasso(alpha=0.0001, copy_X=True, fit_intercept=True, max_iter=1000,\n",
       "      normalize=False, positive=False, precompute=False, random_state=None,\n",
       "      selection='cyclic', tol=0.0001, warm_start=False)"
      ]
     },
     "execution_count": 616,
     "metadata": {},
     "output_type": "execute_result"
    }
   ],
   "source": [
    "# Lasso \n",
    "\n",
    "lasso = Lasso(alpha=0.0001)\n",
    "        \n",
    "lasso.fit(X_train, Y_train) "
   ]
  },
  {
   "cell_type": "code",
   "execution_count": 617,
   "id": "aquatic-present",
   "metadata": {},
   "outputs": [],
   "source": [
    "scaled_predictions = lasso.predict(X_test)"
   ]
  },
  {
   "cell_type": "code",
   "execution_count": 618,
   "id": "excessive-heart",
   "metadata": {},
   "outputs": [],
   "source": [
    "predictions = ss2.inverse_transform(scaled_predictions.reshape(-1, 1))"
   ]
  },
  {
   "cell_type": "code",
   "execution_count": 619,
   "id": "remarkable-schedule",
   "metadata": {},
   "outputs": [
    {
     "data": {
      "text/plain": [
       "array([[14.8867567 ],\n",
       "       [14.91788598],\n",
       "       [14.93251453],\n",
       "       ...,\n",
       "       [14.53478558],\n",
       "       [14.47329864],\n",
       "       [14.4839792 ]])"
      ]
     },
     "execution_count": 619,
     "metadata": {},
     "output_type": "execute_result"
    }
   ],
   "source": [
    "predictions"
   ]
  },
  {
   "cell_type": "code",
   "execution_count": 620,
   "id": "numerical-salvation",
   "metadata": {},
   "outputs": [],
   "source": [
    "ground_truth = ss2.inverse_transform(Y_test)"
   ]
  },
  {
   "cell_type": "code",
   "execution_count": 621,
   "id": "lucky-senate",
   "metadata": {},
   "outputs": [],
   "source": [
    "def MAE(actual: np.ndarray, predicted: np.ndarray):\n",
    "    \"\"\" Mean Absolute Error \"\"\"\n",
    "    return mean_absolute_error(actual, predicted)\n",
    "\n",
    "def MSE(actual: np.ndarray, predicted: np.ndarray):\n",
    "    \"\"\" Mean Squared Error \"\"\"\n",
    "    return mean_squared_error(actual, predicted)\n",
    "\n",
    "def Evaluate(Y_true, predictions):\n",
    "    print('MAE '+str(MAE(Y_true, predictions)))\n",
    "    print('MSE '+str(MSE(Y_true, predictions)))"
   ]
  },
  {
   "cell_type": "code",
   "execution_count": 622,
   "id": "intellectual-bathroom",
   "metadata": {},
   "outputs": [
    {
     "name": "stdout",
     "output_type": "stream",
     "text": [
      "MAE 6.989160203350813\n",
      "MSE 66.53736020430901\n"
     ]
    }
   ],
   "source": [
    "Evaluate(ground_truth,predictions)"
   ]
  },
  {
   "cell_type": "code",
   "execution_count": 525,
   "id": "scenic-answer",
   "metadata": {},
   "outputs": [],
   "source": [
    "# Lasso does not perform too well ))"
   ]
  },
  {
   "cell_type": "code",
   "execution_count": 521,
   "id": "municipal-investor",
   "metadata": {},
   "outputs": [],
   "source": [
    "# SVR (Support Vector Regression)"
   ]
  },
  {
   "cell_type": "code",
   "execution_count": 643,
   "id": "modular-arcade",
   "metadata": {},
   "outputs": [
    {
     "data": {
      "text/plain": [
       "SVR(C=1000.0, cache_size=200, coef0=0.0, degree=3, epsilon=0.001, gamma=0.1,\n",
       "    kernel='linear', max_iter=-1, shrinking=True, tol=0.001, verbose=False)"
      ]
     },
     "execution_count": 643,
     "metadata": {},
     "output_type": "execute_result"
    }
   ],
   "source": [
    "svr = SVR(C=1000.0, cache_size=200, coef0=0.0, degree=3, epsilon=0.001, gamma=0.1,\n",
    "    kernel='linear', max_iter=-1, shrinking=True, tol=0.001, verbose=False)\n",
    "svr.fit(X_train,Y_train.ravel())"
   ]
  },
  {
   "cell_type": "code",
   "execution_count": 649,
   "id": "sharing-security",
   "metadata": {},
   "outputs": [],
   "source": [
    "scaled_predictions = svr.predict(X_test)"
   ]
  },
  {
   "cell_type": "code",
   "execution_count": 650,
   "id": "afraid-greene",
   "metadata": {},
   "outputs": [],
   "source": [
    "predictions = ss2.inverse_transform(scaled_predictions.reshape(-1, 1))"
   ]
  },
  {
   "cell_type": "code",
   "execution_count": 651,
   "id": "wrapped-christmas",
   "metadata": {},
   "outputs": [
    {
     "data": {
      "text/plain": [
       "array([[12.82614743],\n",
       "       [12.84507557],\n",
       "       [12.85652966],\n",
       "       ...,\n",
       "       [12.89574505],\n",
       "       [12.85650725],\n",
       "       [12.86333258]])"
      ]
     },
     "execution_count": 651,
     "metadata": {},
     "output_type": "execute_result"
    }
   ],
   "source": [
    "predictions"
   ]
  },
  {
   "cell_type": "code",
   "execution_count": 652,
   "id": "resident-secretary",
   "metadata": {},
   "outputs": [],
   "source": [
    "ground_truth = ss2.inverse_transform(Y_test)"
   ]
  },
  {
   "cell_type": "code",
   "execution_count": 653,
   "id": "better-south",
   "metadata": {},
   "outputs": [
    {
     "name": "stdout",
     "output_type": "stream",
     "text": [
      "MAE 5.694549465947447\n",
      "MSE 45.6747039007915\n"
     ]
    }
   ],
   "source": [
    "Evaluate(ground_truth,predictions)"
   ]
  },
  {
   "cell_type": "code",
   "execution_count": null,
   "id": "postal-islam",
   "metadata": {},
   "outputs": [],
   "source": []
  }
 ],
 "metadata": {
  "kernelspec": {
   "display_name": "Python 3",
   "language": "python",
   "name": "python3"
  },
  "language_info": {
   "codemirror_mode": {
    "name": "ipython",
    "version": 3
   },
   "file_extension": ".py",
   "mimetype": "text/x-python",
   "name": "python",
   "nbconvert_exporter": "python",
   "pygments_lexer": "ipython3",
   "version": "3.7.7"
  }
 },
 "nbformat": 4,
 "nbformat_minor": 5
}
